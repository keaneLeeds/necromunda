{
 "cells": [
  {
   "cell_type": "code",
   "execution_count": 380,
   "metadata": {
    "collapsed": false
   },
   "outputs": [
    {
     "ename": "ImportError",
     "evalue": "No module named necromundaStaticValues",
     "output_type": "error",
     "traceback": [
      "\u001b[1;31m---------------------------------------------------------------------------\u001b[0m",
      "\u001b[1;31mImportError\u001b[0m                               Traceback (most recent call last)",
      "\u001b[1;32m<ipython-input-380-69103933efb3>\u001b[0m in \u001b[0;36m<module>\u001b[1;34m()\u001b[0m\n\u001b[0;32m      3\u001b[0m \u001b[1;32mimport\u001b[0m \u001b[0mmath\u001b[0m\u001b[1;33m\u001b[0m\u001b[0m\n\u001b[0;32m      4\u001b[0m \u001b[1;32mimport\u001b[0m \u001b[0mrandom\u001b[0m\u001b[1;33m\u001b[0m\u001b[0m\n\u001b[1;32m----> 5\u001b[1;33m \u001b[1;32mimport\u001b[0m \u001b[0mnecromundaStaticValues\u001b[0m\u001b[1;33m\u001b[0m\u001b[0m\n\u001b[0m",
      "\u001b[1;31mImportError\u001b[0m: No module named necromundaStaticValues"
     ]
    }
   ],
   "source": [
    "import numpy as np\n",
    "import itertools\n",
    "import math\n",
    "import random\n",
    "import necromundaStaticValues"
   ]
  },
  {
   "cell_type": "code",
   "execution_count": 184,
   "metadata": {
    "collapsed": false
   },
   "outputs": [],
   "source": [
    "knife = MeleeWeapon({\n",
    "        'weaponId':'knife',\n",
    "        'strength':'fighter', 'bonusStrength':0, 'damage':1, 'saveMod':'fighter',\n",
    "        'cost':5\n",
    "    })\n",
    "club = MeleeWeapon({\n",
    "        'weaponId':'club',\n",
    "        'strength':'fighter', 'bonusStrength':1, 'damage':1, 'saveMod':'fighter',\n",
    "        'cost':10\n",
    "    })\n",
    "chain = MeleeWeapon({\n",
    "        'weaponId':'chain',\n",
    "        'strength':'fighter', 'bonusStrength':1, 'damage':1, 'saveMod':'fighter',\n",
    "        'cost':10,\n",
    "        'nullify':True, 'clumsy':True\n",
    "    })\n",
    "mightyClub = MeleeWeapon({\n",
    "        'weaponId':'mightyClub',\n",
    "        'strength':'fighter', 'bonusStrength':2, 'damage':1, 'saveMod':'fighter',\n",
    "        'cost':15,\n",
    "        'twoHanded':True, 'draws':True, 'mightyBlows':True\n",
    "    })\n",
    "sword = MeleeWeapon({\n",
    "        'weaponId':'sword',\n",
    "        'strength':'fighter', 'bonusStrength':0, 'damage':1, 'saveMod':'fighter',\n",
    "        'cost':15,\n",
    "        'parry':True\n",
    "    })\n",
    "chainSword = MeleeWeapon({\n",
    "        'weaponId':'chainSword',\n",
    "        'strength':4, 'bonusStrength':0, 'damage':1, 'saveMod':-2,\n",
    "        'cost':25,\n",
    "        'noisy':True, 'parry':True\n",
    "    })\n",
    "powerSword = MeleeWeapon({\n",
    "        'weaponId':'powerSword',\n",
    "        'strength':'fighter', 'bonusStrength':2, 'damage':1, 'saveMod':'fighter',\n",
    "        'cost':20,\n",
    "        'parry':True\n",
    "    })\n",
    "powerAxe = MeleeWeapon({\n",
    "        'weaponId':'powerAxe',\n",
    "        'strength':'fighter', 'bonusStrength':3, 'damage':1, 'saveMod':'fighter',\n",
    "        'cost':20,\n",
    "        'dualHanded':True\n",
    "    })\n",
    "powerFist = MeleeWeapon({\n",
    "        'weaponId':'powerFist',\n",
    "        'strength':'fighter', 'bonusStrength':5, 'damage':'d3', 'saveMod':'fighter',\n",
    "        'cost':30\n",
    "    })\n",
    "shockMaul = MeleeWeapon({\n",
    "        'weaponId':'shockMaul',\n",
    "        'strength':5, 'damage':1, 'saveMod':-2,\n",
    "        'cost':30,\n",
    "        'outOfAction':True, 'injury':True\n",
    "    })"
   ]
  },
  {
   "cell_type": "code",
   "execution_count": null,
   "metadata": {
    "collapsed": true
   },
   "outputs": [],
   "source": [
    "autopistol = ShootyWeapon({\n",
    "        'weaponId':'autopistol', 'weaponClass':'pistol',\n",
    "        'shortRange':8, 'longRange':16, 'shortToHit':2, 'longToHit':0, 'strength':3, 'damage':1, 'saveMod':0, 'ammoRoll':4, 'cost':15,\n",
    "    })\n",
    "boltpistol = ShootyWeapon({\n",
    "        'weaponId':'boltpistol', 'weaponClass':'pistol',\n",
    "        'shortRange':8, 'longRange':16, 'shortToHit':2, 'longToHit':0, 'strength':4, 'damage':1, 'saveMod':-1, 'ammoRoll':6, 'cost':0,\n",
    "    })\n",
    "stubgun = ShootyWeapon({\n",
    "        'weaponId':'stubgun', 'weaponClass':'pistol',\n",
    "        'shortRange':8, 'longRange':16, 'shortToHit':1, 'longToHit':-1, 'strength':3, 'damage':1, 'saveMod':0, 'ammoRoll':4, 'cost':10,\n",
    "    })\n",
    "laspistol = ShootyWeapon({\n",
    "        'weaponId':'laspistol', 'weaponClass':'pistol',\n",
    "        'shortRange':8, 'longRange':16, 'shortToHit':1, 'longToHit':0, 'strength':3, 'damage':1, 'saveMod':0, 'ammoRoll':2, 'cost':0,\n",
    "    })\n",
    "needlepistol = ShootyWeapon({\n",
    "        'weaponId':'needlepistol', 'weaponClass':'pistol',\n",
    "        'shortRange':8, 'longRange':16, 'shortToHit':2, 'longToHit':0, 'strength':3, 'damage':1, 'saveMod':-1, 'ammoRoll':6, 'cost':0,\n",
    "        'toxicDart':True, 'injuries':True, 'silent':True\n",
    "    })\n",
    "plasmapistol = ShootyWeapon({\n",
    "        'weaponId':'plasmapistol', 'weaponClass':'pistol',\n",
    "        'shortRange':8, 'longRange':16, 'shortToHit':1, 'longToHit':0, 'strength':4, 'damage':1, 'saveMod':-1, 'ammoRoll':4, 'cost':0,\n",
    "        'energyLevels':True\n",
    "    })\n",
    "plasmapistolHigh = ShootyWeapon({\n",
    "        'weaponId':'plasmapistolHigh', 'weaponClass':'pistol',\n",
    "        'shortRange':8, 'longRange':16, 'shortToHit':2, 'longToHit':0, 'strength':5, 'damage':1, 'saveMod':-2, 'ammoRoll':6, 'cost':0,\n",
    "        'energyLevels':True\n",
    "    })\n",
    "webpistol = ShootyWeapon({\n",
    "        'weaponId':'webpistol', 'weaponClass':'pistol',\n",
    "        'shortRange':6, 'longRange':9, 'shortToHit':0, 'longToHit':-1, 'strength':0, 'damage':0, 'saveMod':0, 'ammoRoll':6, 'cost':0,\n",
    "        'webbedTargets':True, 'capture':True, 'webSolvent':True\n",
    "    })\n",
    "handFlamer = ShootyWeapon({\n",
    "        'weaponId':'handFlamer', 'weaponClass':'pistol',\n",
    "        'shortRange':8, 'longRange':8, 'shortToHit':0, 'longToHit':0, 'strength':3, 'damage':1, 'saveMod':-1, 'ammoRoll':5, 'cost':25,\n",
    "        'template':True, 'flamer':True, 'ammoRoll':True, 'catchFire':5\n",
    "    })"
   ]
  },
  {
   "cell_type": "code",
   "execution_count": null,
   "metadata": {
    "collapsed": true
   },
   "outputs": [],
   "source": [
    "autogun = ShootyWeapon({\n",
    "        'weaponId':'autogun', 'weaponClass':'basic',\n",
    "        'shortRange':12, 'longRange':24, 'shortToHit':1, 'longToHit':0, 'strength':3, 'damage':1, 'saveMod':0, 'ammoRoll':4, 'cost':20\n",
    "    })\n",
    "boltgun = ShootyWeapon({\n",
    "        'weaponId':'boltgun', 'weaponClass':'basic',\n",
    "        'shortRange':12, 'longRange':24, 'shortToHit':1, 'longToHit':0, 'strength':4, 'damage':1, 'saveMod':-1, 'ammoRoll':6, 'cost':25\n",
    "    })\n",
    "lasgun = ShootyWeapon({\n",
    "        'weaponId':'lasgun', 'weaponClass':'basic',\n",
    "        'shortRange':8, 'longRange':24, 'shortToHit':1, 'longToHit':0, 'strength':3, 'damage':1, 'saveMod':0, 'ammoRoll':2, 'cost':25\n",
    "    })\n",
    "huntingRifle = ShootyWeapon({\n",
    "        'weaponId':'huntingRifle', 'weaponClass':'basic',\n",
    "        'shortRange':8, 'longRange':32, 'shortToHit':-1, 'longToHit':0, 'strength':3, 'damage':1, 'saveMod':0, 'ammoRoll':4, 'cost':20,\n",
    "        'headShot':True\n",
    "    })\n",
    "shotgun = ShootyWeapon({\n",
    "        'weaponId':'shotgun', 'weaponClass':'basic',\n",
    "        'shortRange':4, 'longRange':18, 'shortToHit':1, 'longToHit':-1, 'strength':4, 'damage':1, 'saveMod':0, 'ammoRoll':4, 'cost':20,\n",
    "        'knockBack':True, 'ammo':True\n",
    "    })"
   ]
  },
  {
   "cell_type": "code",
   "execution_count": null,
   "metadata": {
    "collapsed": true
   },
   "outputs": [],
   "source": [
    "flamer = ShootyWeapon({\n",
    "        'weaponId':'flamer', 'weaponClass':'special',\n",
    "        'shortRange':8, 'longRange':8, 'shortToHit':0, 'longToHit':0, 'strength':4, 'damage':1, 'saveMod':-2, 'ammoRoll':4, 'cost':20,\n",
    "        'template':True, 'flamer':True, 'ammoRoll':True, 'catchFire':4\n",
    "    })\n",
    "autoslugger = ShootyWeapon({\n",
    "        'weaponId':'autoslugger', 'weaponClass':'special',\n",
    "        'shortRange':12, 'longRange':24, 'shortToHit':1, 'longToHit':0, 'strength':3, 'damage':1, 'saveMod':0, 'ammoRoll':5, 'cost':20,\n",
    "        'sustainedFire':1\n",
    "    })\n",
    "grenadeLauncher = ShootyWeapon({\n",
    "        'weaponId':'grenadeLauncher', 'weaponClass':'special',\n",
    "        'shortRange':14, 'longRange':28, 'shortToHit':0, 'longToHit':-1, 'strength':0, 'damage':0, 'saveMod':0, 'ammoRoll':6, 'cost':20,\n",
    "        'grenadeAmmo':True\n",
    "    })\n",
    "meltagun = ShootyWeapon({\n",
    "        'weaponId':'meltagun', 'weaponClass':'special',\n",
    "        'shortRange':6, 'longRange':12, 'shortToHit':1, 'longToHit':0, 'strength':8, 'damage':6, 'saveMod':-5, 'ammoRoll':4, 'cost':20\n",
    "    })\n",
    "needleRifle = ShootyWeapon({\n",
    "        'weaponId':'needleRilfe', 'weaponClass':'special',\n",
    "        'shortRange':16, 'longRange':32, 'shortToHit':1, 'longToHit':0, 'strength':3, 'damage':1, 'saveMod':-1, 'ammoRoll':6, 'cost':20,\n",
    "        'toxicDart':True, 'injuries':True, 'silent':True\n",
    "    })\n",
    "plasmagun = ShootyWeapon({\n",
    "        'weaponId':'plasmagun', 'weaponClass':'special',\n",
    "        'shortRange':8, 'longRange':24, 'shortToHit':1, 'longToHit':0, 'strength':5, 'damage':1, 'saveMod':-2, 'ammoRoll':4, 'cost':20,\n",
    "        'energyLevels':True\n",
    "    })\n",
    "plasmagunHigh = ShootyWeapon({\n",
    "        'weaponId':'plasmagunHigh', 'weaponClass':'special',\n",
    "        'shortRange':12, 'longRange':24, 'shortToHit':1, 'longToHit':0, 'strength':6, 'damage':1, 'saveMod':-3, 'ammoRoll':6, 'cost':0,\n",
    "        'sustainedFire':1, 'energyLevels':True\n",
    "    })"
   ]
  },
  {
   "cell_type": "code",
   "execution_count": null,
   "metadata": {
    "collapsed": true
   },
   "outputs": [],
   "source": [
    "autocannon = ShootyWeapon({\n",
    "        'weaponId':'autocannon', 'weaponClass':'heavy',\n",
    "        'shortRange':20, 'longRange':72, 'shortToHit':0, 'longToHit':0, 'strength':8, 'damage':'d6', 'saveMod':-5, 'ammoRoll':4, 'cost':20,\n",
    "        'sustainedFire':1\n",
    "    })\n",
    "heavyBolter = ShootyWeapon({\n",
    "        'weaponId':'heavyBolter', 'weaponClass':'heavy',\n",
    "        'shortRange':20, 'longRange':40, 'shortToHit':0, 'longToHit':0, 'strength':5, 'damage':'d3', 'saveMod':-2, 'ammoRoll':6, 'cost':20,\n",
    "        'sustainedFire':2\n",
    "    })\n",
    "heavyPlasmagun = ShootyWeapon({\n",
    "        'weaponId':'heavyPlasmagun', 'weaponClass':'heavy',\n",
    "        'shortRange':20, 'longRange':40, 'shortToHit':0, 'longToHit':0, 'strength':7, 'damage':'d3', 'saveMod':-4, 'ammoRoll':4, 'cost':20,\n",
    "        'energyLevels':True, 'template':True, 'blastCloud':True, 'plasmaBlast':True\n",
    "    })\n",
    "heavyPlasmagunHigh = ShootyWeapon({\n",
    "        'weaponId':'heavyPlasmagunHigh', 'weaponClass':'heavy',\n",
    "        'shortRange':20, 'longRange':72, 'shortToHit':0, 'longToHit':0, 'strength':8, 'damage':'d6', 'saveMod':-5, 'ammoRoll':6, 'cost':0,\n",
    "        'energyLevels':True, 'template':True, 'gasCloud':False, 'plasmaBlast':True\n",
    "    })\n",
    "lascannon = ShootyWeapon({\n",
    "        'weaponId':'lascannon', 'weaponClass':'heavy',\n",
    "        'shortRange':20, 'longRange':60, 'shortToHit':0, 'longToHit':0, 'strength':9, 'damage':'2d6', 'saveMod':-6, 'ammoRoll':2, 'cost':20,\n",
    "        'terrifyingForce':True\n",
    "    })\n",
    "heavyFlamer = ShootyWeapon({\n",
    "        'weaponId':'heavyFlamer', 'weaponClass':'heavy',\n",
    "        'shortRange':8, 'longRange':8, 'shortToHit':0, 'longToHit':0, 'strength':5, 'damage':'d3', 'saveMod':-3, 'ammoRoll':3, 'cost':20,\n",
    "        'template':True, 'flamer':True, 'ammoRoll':True, 'catchFire':3\n",
    "    })\n",
    "heavyStubber = ShootyWeapon({\n",
    "        'weaponId':'heavyStubber', 'weaponClass':'heavy',\n",
    "        'shortRange':20, 'longRange':40, 'shortToHit':0, 'longToHit':0, 'strength':4, 'damage':1, 'saveMod':-1, 'ammoRoll':4, 'cost':20,\n",
    "        'sustainedFire':2\n",
    "    })\n",
    "missileLauncher = ShootyWeapon({\n",
    "        'weaponId':'missileLauncher', 'weaponClass':'heavy',\n",
    "        'shortRange':20, 'longRange':72, 'shortToHit':0, 'longToHit':0, 'strength':0, 'damage':0, 'saveMod':0, 'ammoRoll':6, 'cost':20,\n",
    "        'missileAmmo':True\n",
    "    })"
   ]
  },
  {
   "cell_type": "code",
   "execution_count": null,
   "metadata": {
    "collapsed": true
   },
   "outputs": [],
   "source": [
    "dumDumBullets = ShootyWeapon({\n",
    "        'weaponId':'dumDumBullets', 'weaponClass':'ammo',\n",
    "        'shortRange':8, 'longRange':16, 'shortToHit':1, 'longToHit':-1, 'strength':4, 'damage':1, 'saveMod':0, 'ammoRoll':4, 'cost':5,\n",
    "        'ammo':True, 'dumDumBullets':True\n",
    "    })"
   ]
  },
  {
   "cell_type": "code",
   "execution_count": null,
   "metadata": {
    "collapsed": true
   },
   "outputs": [],
   "source": [
    "solidSlug = ShootyWeapon({\n",
    "        'weaponId':'solidslug', 'weaponClass':'shell',\n",
    "        'shortRange':4, 'longRange':18, 'shortToHit':1, 'longToHit':-1, 'strength':4, 'damage':1, 'saveMod':0, 'ammoRoll':4, 'cost':0,\n",
    "        'knockBack':True, 'ammo':True, 'solidSlug':True\n",
    "    })\n",
    "scatterShot = ShootyWeapon({\n",
    "        'weaponId':'scatterShot', 'weaponClass':'shell',\n",
    "        'shortRange':4, 'longRange':18, 'shortToHit':1, 'longToHit':-1, 'strength':3, 'damage':1, 'saveMod':0, 'ammoRoll':4, 'cost':0,\n",
    "        'knockBack':False, 'ammo':True, scatterShot':True\n",
    "    })\n",
    "manstopperShell = ShootyWeapon({\n",
    "        'weaponId':'manstopperShell', 'weaponClass':'shell',\n",
    "        'shortRange':4, 'longRange':18, 'shortToHit':1, 'longToHit':0, 'strength':4, 'damage':1, 'saveMod':0, 'ammoRoll':4, 'cost':5,\n",
    "        'knockBack':True, 'ammo':True, 'manstopperShells':True\n",
    "    })\n",
    "hotShotShell = ShootyWeapon({\n",
    "        'weaponId':'hotShotShell', 'weaponClass':'shell',\n",
    "        'shortRange':4, 'longRange':18, 'shortToHit':1, 'longToHit':-1, 'strength':4, 'damage':1, 'saveMod':0, 'ammoRoll':6, 'cost':5,\n",
    "        'knockBack':True, 'ammo':True, 'hotShotShells':True, 'catchFire':5\n",
    "    })\n",
    "boltShell = ShootyWeapon({\n",
    "        'weaponId':'boltShell', 'weaponClass':'shell',\n",
    "        'shortRange':4, 'longRange':24, 'shortToHit':1, 'longToHit':0, 'strength':4, 'damage':1, 'saveMod':-1, 'ammoRoll':6, 'cost':15,\n",
    "        'knockBack':True, 'ammo':True, 'boltShells':True\n",
    "    })"
   ]
  },
  {
   "cell_type": "code",
   "execution_count": null,
   "metadata": {
    "collapsed": true
   },
   "outputs": [],
   "source": [
    "superKrakMissile = ShootyWeapon({\n",
    "        'weaponId':'superKrakMissile', 'weaponClass':'missile',\n",
    "        'strength':8, 'damage':'d6', 'saveMod':-5, 'cost':0,\n",
    "        'highImpact':True\n",
    "    })\n",
    "fragMissile = ShootyWeapon({\n",
    "        'weaponId':'fragMissile', 'weaponClass':'missile',\n",
    "        'strength':4, 'damage':'1', 'saveMod':-2, 'cost':0,\n",
    "        'template':True, 'gasCloud':True\n",
    "    })"
   ]
  },
  {
   "cell_type": "code",
   "execution_count": null,
   "metadata": {
    "collapsed": true
   },
   "outputs": [],
   "source": [
    "krakGrenade = ShootyWeapon({\n",
    "        'weaponId':'krakGrenade', 'weaponClass':'grenade',\n",
    "        'strength':6, 'damage':'d6', 'saveMod':-3, 'cost':0,\n",
    "        'template':False, 'demolition':True, 'toHitPenalty':True\n",
    "    })\n",
    "fragGrenade = ShootyWeapon({\n",
    "        'weaponId':'gragGrenade', 'weaponClass':'grenade',\n",
    "        'strength':5, 'damage':'1', 'saveMod':-1, 'cost':0,\n",
    "        'template':True, 'gasCloud':True\n",
    "    })\n",
    "meltabomb = ShootyWeapon({\n",
    "        'weaponId':'meltabomb', 'weaponClass':'grenade',\n",
    "        'strength':8, 'damage':'2d6', 'saveMod':-5, 'cost':0,\n",
    "        'template':False, 'demolition':True, 'demolitionOnly':True\n",
    "    })\n",
    "chokeGrenade = ShootyWeapon({\n",
    "        'weaponId':'chokeGrenade', 'weaponClass':'grenade',\n",
    "        'cost':0,\n",
    "        'choke':True, 'template':True, 'gasTemplate':True\n",
    "    })\n",
    "scareGrenade = ShootyWeapon({\n",
    "        'weaponId':'scareGrenade', 'weaponClass':'grenade',\n",
    "        'cost':0,\n",
    "        'scare':True, 'template':True, 'gasTemplate':True\n",
    "    })\n",
    "hallucinogenGrenade = ShootyWeapon({\n",
    "        'weaponId':'hallucinogenGrenade', 'weaponClass':'grenade',\n",
    "        'cost':0,\n",
    "        'hallucinogen':True, 'template':True, 'gasTemplate':True\n",
    "    })\n",
    "plasmaGrenade = ShootyWeapon({\n",
    "        'weaponId':'plasmaGrenade', 'weaponClass':'grenade',\n",
    "        'strength':5, 'damage':'1', 'saveMod':-2, 'cost':0,\n",
    "        'template':True, 'blastTemplate':True, 'plasmaBlast':True\n",
    "    })\n",
    "photonFlashFlare = ShootyWeapon({\n",
    "        'weaponId':'photonFlashFlare', 'weaponClass':'grenade',\n",
    "        'cost':0,\n",
    "        'template':True, 'blastTemplate':True, 'blinding':True\n",
    "    })\n",
    "smokeBomb = ShootyWeapon({\n",
    "        'weaponId':'smokeBomb', 'weaponClass':'grenade',\n",
    "        'cost':0,\n",
    "        'template':True, 'gasTemplate':True, 'smoke':True\n",
    "    })"
   ]
  },
  {
   "cell_type": "code",
   "execution_count": null,
   "metadata": {
    "collapsed": true
   },
   "outputs": [],
   "source": [
    "meshArmor = Armor({\n",
    "        'armorId':'mesh',\n",
    "        'save':5,\n",
    "        'cost':0\n",
    "    })\n",
    "flakArmor = Armor({\n",
    "        'armorId':'flak',\n",
    "        'save':6,\n",
    "        'cost':0,\n",
    "        'flakSave':5})\n",
    "carapace = Armor({\n",
    "        'armorId':'carapace',\n",
    "        'save':4,\n",
    "        'cost':0,\n",
    "        'initiativePenalty':1\n",
    "    })\n",
    "forceField = Armor({\n",
    "        'armorId':'forceField',\n",
    "        'save':0,\n",
    "        'cost':0,\n",
    "        'shootyOnly':True, 'forceProtection':True\n",
    "    })"
   ]
  },
  {
   "cell_type": "code",
   "execution_count": null,
   "metadata": {
    "collapsed": true
   },
   "outputs": [],
   "source": [
    "juve = {\n",
    "    'gangerType':'juve',\n",
    "    'm':4, 'ws':2, 'bs':2, 's':3, 't':3, 'w':1, 'i':3, 'a':1, 'ld':6,\n",
    "    'weapons':knife,\n",
    "    'cost':25\n",
    "}\n",
    "ganger = {\n",
    "    'gangerType':'ganger',\n",
    "    'm':4, 'ws':3, 'bs':3, 's':3, 't':3, 'w':1, 'i':3, 'a':1, 'ld':7,\n",
    "    'weapons':knife,\n",
    "    'cost':50\n",
    "}\n",
    "heavy = {\n",
    "    'gangerType':'heavy',\n",
    "     'm':4, 'ws':3, 'bs':3, 's':3, 't':3, 'w':1, 'i':3, 'a':1, 'ld':7,\n",
    "     'weapons':knife,\n",
    "     'cost':60\n",
    "}\n",
    "gangLeader = {\n",
    "    'gangerType':'gangLeader',\n",
    "    'm':4, 'ws':4, 'bs':4, 's':3, 't':3, 'w':1, 'i':4, 'a':1, 'ld':8,\n",
    "    'weapons':knife,\n",
    "    'cost':120\n",
    "}\n",
    "scaly = {\n",
    "    'gangerType':'scaly',\n",
    "    'm':4, 'ws':4, 'bs':3, 's':5, 't':4, 'w':2, 'i':2, 'a':2, 'ld':6,\n",
    "    'weapons':knife,\n",
    "    'cost':140\n",
    "}\n",
    "scavvy = {\n",
    "    'gangerType':'scavvy',\n",
    "    'm':4, 'ws':3, 'bs':2, 's':3, 't':3, 'w':1, 'i':3, 'a':1, 'ld':6,\n",
    "    'weapons':knife,\n",
    "    'cost':25\n",
    "}"
   ]
  },
  {
   "cell_type": "code",
   "execution_count": null,
   "metadata": {
    "collapsed": true
   },
   "outputs": [],
   "source": [
    "phases = ['movement', 'shooting', 'hand2hand', 'recovery']\n",
    "movementPhase = ['charges', 'compulsoryMoves', 'normalMoves']\n",
    "shootingPhase = []\n",
    "handToHandPhase = ['throwAttackDice', 'calculateCombatScore', 'determineWinner', 'numberOfHits', 'throwToWound', 'savingThrow', 'resolveInjuries']\n",
    "h2HModifiers = ['opponentFumbles', 'criticalHits', 'charging', 'higherUp', 'encumbered', 'obstacle']\n",
    "recoveryPhase = []\n",
    "turns = ['player1', 'player2']\n",
    "status = {'ran':False, 'hiding':False, 'overwatch':False, 'wounded':False, 'pinned':False, 'outOfAction':False, 'onFire':False, 'frenzy':False, 'stupid':False, 'broken':False, 'partialCover':False, 'cover':False, 'charging':False, 'rapidMove':False, 'smallTarget':False, 'largeTarget':False, 'wounded':False, 'down':False}"
   ]
  },
  {
   "cell_type": "code",
   "execution_count": 185,
   "metadata": {
    "collapsed": true
   },
   "outputs": [],
   "source": [
    "def getPermutations(number):\n",
    "    return list(itertools.combinations_with_replacement([i+1 for i in range(6)], number))"
   ]
  },
  {
   "cell_type": "code",
   "execution_count": 208,
   "metadata": {
    "collapsed": false
   },
   "outputs": [],
   "source": [
    "def attackDiceAverageValue(fighter):\n",
    "    \"\"\"\n",
    "    Takes the number of attack dice and returns the average\n",
    "    value added to WS for that number of dice.\n",
    "    \"\"\"\n",
    "\n",
    "    permutations = getPermutations(fighter.a)\n",
    "    sum = 0.0\n",
    "\n",
    "    for roll in permutations:\n",
    "        maxRoll, fumbles, criticals = throwAttackDice(roll)\n",
    "        for i in range(len(fighter.weapons)):\n",
    "            if fighter.weapons[i].weaponId == 'chain':\n",
    "                fumbles *= 2\n",
    "        value = (maxRoll - fumbles) + criticals\n",
    "        #print roll, maxRoll, fumbles, criticals, value\n",
    "        sum += value \n",
    "\n",
    "    return sum/len(permutations)"
   ]
  },
  {
   "cell_type": "code",
   "execution_count": 216,
   "metadata": {
    "collapsed": false
   },
   "outputs": [
    {
     "name": "stdout",
     "output_type": "stream",
     "text": [
      "3.83333333333\n"
     ]
    }
   ],
   "source": [
    "fighter1 = Fighter(ganger)\n",
    "fighter2 = Fighter(ganger)\n",
    "fighter2.a = 5\n",
    "#print fighter1.__dict__, fighter2.__dict__\n",
    "#fighter1.weapons =\n",
    "fighter1.weapons.append(powerFist)\n",
    "fighter2.weapons.append(chain)\n",
    "fighter1.name = 'Bob'\n",
    "fighter2.name = 'Jim'\n",
    "weap1 = []\n",
    "weap2 = []\n",
    "#print fighter1.name, fighter2.name\n",
    "#for i in fighter2.weapons:\n",
    "#    weap2.append(i.weaponId)\n",
    "#for i in fighter1.weapons:\n",
    "#    weap1.append(i.weaponId)\n",
    "#weap = [weapon for weapon in fighter1.weapons]\n",
    "#weapIds = [weaponId for weaponId in weap]\n",
    "#print '{0}: {1}'.format(fighter1.name, weap1)\n",
    "#print '{0}: {1}'.format(fighter2.name, weap2)\n",
    "#fighter1.a = 1\n",
    "print attackDiceAverageValue(fighter2)"
   ]
  },
  {
   "cell_type": "code",
   "execution_count": 139,
   "metadata": {
    "collapsed": false
   },
   "outputs": [
    {
     "name": "stdout",
     "output_type": "stream",
     "text": [
      "> \u001b[1;32m<ipython-input-118-0f5b4de593c8>\u001b[0m(12)\u001b[0;36mattackDiceAverageValue\u001b[1;34m()\u001b[0m\n",
      "\u001b[1;32m     11 \u001b[1;33m        \u001b[0mmaxRoll\u001b[0m\u001b[1;33m,\u001b[0m \u001b[0mfumbles\u001b[0m\u001b[1;33m,\u001b[0m \u001b[0mcriticals\u001b[0m \u001b[1;33m=\u001b[0m \u001b[0mthrowAttackDice\u001b[0m\u001b[1;33m(\u001b[0m\u001b[0mroll\u001b[0m\u001b[1;33m)\u001b[0m\u001b[1;33m\u001b[0m\u001b[0m\n",
      "\u001b[0m\u001b[1;32m---> 12 \u001b[1;33m        \u001b[1;32mfor\u001b[0m \u001b[0mweapon\u001b[0m \u001b[1;32min\u001b[0m \u001b[0mfighter\u001b[0m\u001b[1;33m.\u001b[0m\u001b[0mweapons\u001b[0m\u001b[1;33m:\u001b[0m\u001b[1;33m\u001b[0m\u001b[0m\n",
      "\u001b[0m\u001b[1;32m     13 \u001b[1;33m            \u001b[1;32mif\u001b[0m \u001b[0mweapon\u001b[0m\u001b[1;33m.\u001b[0m\u001b[0mweaponId\u001b[0m \u001b[1;33m==\u001b[0m \u001b[1;34m'chain'\u001b[0m\u001b[1;33m:\u001b[0m\u001b[1;33m\u001b[0m\u001b[0m\n",
      "\u001b[0m\n",
      "ipdb> fighter.weapons\n",
      "ipdb> fighter\n",
      "<__main__.Fighter object at 0x7f0dec4178d0>\n",
      "ipdb> fighter.a\n",
      "1\n",
      "ipdb> fighter.weapons\n",
      "ipdb> print fighter\n",
      "<__main__.Fighter object at 0x7f0dec4178d0>\n",
      "ipdb> print fighter.__attr__\n",
      "*** AttributeError: 'Fighter' object has no attribute '__attr__'\n",
      "ipdb> fighter.__dict__\n",
      "{'a': 1, 'gangerType': 'ganger', 'name': None, 'i': 3, 'm': 4, 'l': 7, 'weapons': None, 's': 3, 'cost': 50, 'ws': 3, 't': 3, 'w': 1, 'bs': 3}\n",
      "ipdb> quit\n"
     ]
    }
   ],
   "source": [
    "%debug"
   ]
  },
  {
   "cell_type": "code",
   "execution_count": 85,
   "metadata": {
    "collapsed": true
   },
   "outputs": [],
   "source": [
    "def throwAttackDice(roll):\n",
    "    \"\"\"\n",
    "    Should be recieving a tuple of roll values,\n",
    "    and returning the value of that attack roll,\n",
    "    fumbles, and criticals.\n",
    "    returns (maxRoll, fumbles, criticals)\n",
    "    \"\"\"\n",
    "    maxRoll = getMaxRoll(roll)\n",
    "    criticals = getCriticalHits(roll)\n",
    "    fumbles = getFumbles(roll)\n",
    "\n",
    "    return maxRoll, fumbles, criticals"
   ]
  },
  {
   "cell_type": "code",
   "execution_count": 50,
   "metadata": {
    "collapsed": true
   },
   "outputs": [],
   "source": [
    "def getMaxRoll(roll):\n",
    "    return max(roll)"
   ]
  },
  {
   "cell_type": "code",
   "execution_count": 51,
   "metadata": {
    "collapsed": true
   },
   "outputs": [],
   "source": [
    "def getCriticalHits(roll):\n",
    "    criticalHits = -1\n",
    "    for rollValue in roll:\n",
    "        if rollValue == 6:\n",
    "            criticalHits += 1\n",
    "    if criticalHits < 0:\n",
    "        criticalHits = 0\n",
    "    return criticalHits"
   ]
  },
  {
   "cell_type": "code",
   "execution_count": 52,
   "metadata": {
    "collapsed": true
   },
   "outputs": [],
   "source": [
    "def getFumbles(roll):\n",
    "    fumbles = 0\n",
    "    for rollValue in roll:\n",
    "        if rollValue == 1:\n",
    "            fumbles += 1\n",
    "    return fumbles"
   ]
  },
  {
   "cell_type": "code",
   "execution_count": 310,
   "metadata": {
    "collapsed": false
   },
   "outputs": [
    {
     "name": "stdout",
     "output_type": "stream",
     "text": [
      "[((4,), (5,))]\n"
     ]
    }
   ],
   "source": [
    "def parry(fighter1, fighter2, fights):\n",
    "    newFights = []\n",
    "    #totalParries = fighter1.numberOfParries() - fighter2.numberOfParries()\n",
    "    #print totalParries\n",
    "    #if totalParries == 0:\n",
    "    #    return fights\n",
    "\n",
    "    #if totalParries > 0:\n",
    "    for fight in fights:\n",
    "        if getMaxRoll(fight[0]) < getMaxRoll(fight[1]) and getMaxRoll(fight[0]) > 3:\n",
    "            #print getMaxRoll(fight[0]), getMaxRoll(fight[1])\n",
    "            for i in xrange(0,6):\n",
    "                parriedFight = list(fight[1])\n",
    "                #print parriedFight\n",
    "                parriedFight[parriedFight.index(getMaxRoll(fight[1]))] = i+1\n",
    "                #print (fight[0], parriedFight)\n",
    "\n",
    "                newFights.append((fight[0], tuple(parriedFight)))\n",
    "            #newFights.append(rerolled)\n",
    "        else:\n",
    "            newFights.append(fight)\n",
    "    return newFights\n",
    "\n",
    "bob = Fighter(ganger)\n",
    "bob.addWeapon(sword)\n",
    "jimmy = Fighter(ganger)\n",
    "fights = [((4,),(5,))]\n",
    "print parry(bob, jimmy, fights)"
   ]
  },
  {
   "cell_type": "code",
   "execution_count": 376,
   "metadata": {
    "collapsed": false
   },
   "outputs": [
    {
     "name": "stdout",
     "output_type": "stream",
     "text": [
      "0\n",
      "0\n",
      "6 6 41.6666666667 41.6666666667 16.6666666667\n"
     ]
    }
   ],
   "source": [
    "def meleeProbability(fighter1, fighter2, charge):\n",
    "    bonus = 0\n",
    "    if charge:\n",
    "        bonus = 1\n",
    "    p1 = getPermutations(fighter1.a)\n",
    "    p2 = getPermutations(fighter2.a)\n",
    "    fights = list(itertools.product(p1,p2))\n",
    "    \n",
    "    p1Wins = 0.0\n",
    "    p2Wins = 0.0\n",
    "    push = 0.0\n",
    "    #print fights\n",
    "    newFights = fights\n",
    "    #print newFights\n",
    "    print fighter1.numberOfParries()\n",
    "    #print fighter2.numberOfParries()\n",
    "    #print fighter1.numberOfChains()\n",
    "    print fighter2.numberOfChains()\n",
    "    for i in xrange(0,fighter1.numberOfParries() - fighter2.numberOfChains()):\n",
    "        print i+7\n",
    "        #for fight in newFights:\n",
    "        newFights = parry(fighter1, fighter2, newFights)\n",
    "    #print newFights\n",
    "    numFights = len(newFights)\n",
    "    for fight in newFights:\n",
    "        #print fight\n",
    "\n",
    "        maxP1, fumble1, crit1 = melee(fight[0])\n",
    "        maxP2, fumble2, crit2 = melee(fight[1])\n",
    "        if fighter1.numberOfChains() > 0:\n",
    "            fumble1 *= 2 #+= fighter1.numberOfChains()\n",
    "        if fighter2.numberOfChains() > 0:\n",
    "            fumble2 *= 2 #+= fighter2.numberOfChains()\n",
    "        combatScore1 = maxP1+fighter1.ws+bonus+fumble2\n",
    "        #print maxP1, fighter1.ws, bonus, fumble2\n",
    "        #print maxP2, fighter2.ws, bonus, fumble1\n",
    "        combatScore2 = maxP2+fighter2.ws+bonus+fumble1\n",
    "        #print fight, combatScore1, combatScore2\n",
    "        if maxP1+fighter1.ws+bonus+fumble2 > maxP2+fighter2.ws+fumble1:\n",
    "            p1Wins += 1\n",
    "        elif maxP1+fighter1.ws+bonus+fumble2 < maxP2+fighter2.ws+fumble1:\n",
    "            p2Wins += 1\n",
    "        elif fighter1.i > fighter2.i:\n",
    "            p1Wins += 1\n",
    "        elif fighter1.i < fighter2.i:\n",
    "            p2Wins +=1\n",
    "        else:\n",
    "            push +=1\n",
    "\n",
    "    print maxP1, maxP2, p1Wins/numFights*100, p2Wins/numFights*100, push/numFights*100\n",
    "\n",
    "jimmy = Fighter(ganger)\n",
    "#jimmy.ws = 3\n",
    "#jimmy.a = 1\n",
    "jimmy.addWeapon(knife)\n",
    "#jimmy.addWeapon(sword)\n",
    "#print jimmy.getWeaponNames(), jimmy.numberOfParries()\n",
    "bob = Fighter(ganger)\n",
    "bob.addWeapon(knife)\n",
    "#bob.ws = 4\n",
    "#bob.a = 2\n",
    "\n",
    "#bob.a = 2\n",
    "#print bob.getWeaponNames(), bob.numberOfParries()\n",
    "meleeProbability(jimmy, bob, False)"
   ]
  },
  {
   "cell_type": "code",
   "execution_count": 169,
   "metadata": {
    "collapsed": false
   },
   "outputs": [
    {
     "name": "stdout",
     "output_type": "stream",
     "text": [
      "0.833333333333\n"
     ]
    }
   ],
   "source": [
    "def woundProbability(fighter1, fighter2):\n",
    "    strength = fighter1.weapon.strength\n",
    "    if strength == 'fighter':\n",
    "        strength = fighter1.s+fighter1.weapon.bonusStrength\n",
    "    toughness = fighter2.t\n",
    "    difference = toughness - strength\n",
    "    target = 4 + difference\n",
    "    if target < 2:\n",
    "        target = 2\n",
    "    woundRoll = getPermutations(1)\n",
    "    wounded = 0.0\n",
    "    for roll in woundRoll:\n",
    "        if roll[0] >= target:\n",
    "            wounded += 1\n",
    "    return wounded/len(woundRoll)\n",
    "\n",
    "jimmy = Fighter(scaly)\n",
    "jimmy.addWeapon(mightyClub)\n",
    "\n",
    "print woundProbability(fighter1, Fighter(juve))"
   ]
  },
  {
   "cell_type": "code",
   "execution_count": 379,
   "metadata": {
    "collapsed": false
   },
   "outputs": [
    {
     "name": "stdout",
     "output_type": "stream",
     "text": [
      "['knife', 'chain', 'chainSword'] 1 1 1\n"
     ]
    }
   ],
   "source": [
    "class Fighter(object):\n",
    "    def __init__(self, stats):\n",
    "        self.name = stats.get('name')\n",
    "        self.gangerType = stats.get('gangerType')\n",
    "        self.m = stats.get('m')\n",
    "        self.ws = stats.get('ws')\n",
    "        self.bs = stats.get('bs')\n",
    "        self.s = stats.get('s')\n",
    "        self.t = stats.get('t')\n",
    "        self.w = stats.get('w')\n",
    "        self.i = stats.get('i')\n",
    "        self.a = stats.get('a')\n",
    "        self.ld = stats.get('ld')\n",
    "        self.weapons = []\n",
    "        self.weapons.append(stats.get('weapons'))\n",
    "        self.cost = stats.get('cost')\n",
    "\n",
    "    def addWeapon(self, weap):\n",
    "        self.weapons.append(weap)\n",
    "    \n",
    "    def setWeapon(self, weap):\n",
    "        self.weapons = []\n",
    "        self.addWeapon(weap)\n",
    "\n",
    "    def numberOfParries(self):\n",
    "        weaps = [weapon.parry for weapon in self.weapons]\n",
    "        return weaps.count(True)\n",
    "\n",
    "    def netNumberOfParries(self, fighter2):\n",
    "        parries = self.numberOfParries()\n",
    "        parries -= fighter2.numberOfParries() #sword parries counter each other before nullifications\n",
    "        parries -= fighter2.numberOfNullifications() # nullifications come after parries\n",
    "        if parries > 0:\n",
    "            return parries\n",
    "        else:\n",
    "            return 0\n",
    "\n",
    "    def getWeaponNames(self):\n",
    "        weaps = [weapon.weaponId for weapon in self.weapons]\n",
    "        return weaps\n",
    "\n",
    "    def hasParry(self):\n",
    "        weaps = self.getWeaponNames()\n",
    "        if 'sword' in weaps:\n",
    "            return True\n",
    "\n",
    "    def numberOfChains(self):\n",
    "        weaps = self.getWeaponNames()\n",
    "        return weaps.count('chain')\n",
    "\n",
    "    def numberOfNullifications(self):\n",
    "        return self.numberOfChains()\n",
    "\n",
    "jimmy = Fighter(ganger)\n",
    "jimmy.addWeapon(chain)\n",
    "jimmy.addWeapon(chainSword)\n",
    "bob = Fighter(ganger)\n",
    "print jimmy.getWeaponNames(), jimmy.numberOfParries(), jimmy.netNumberOfParries(bob), jimmy.numberOfChains()"
   ]
  },
  {
   "cell_type": "code",
   "execution_count": 143,
   "metadata": {
    "collapsed": false
   },
   "outputs": [],
   "source": [
    "class MeleeWeapon(object):\n",
    "    def __init__(self, stats):\n",
    "        self.weaponId = stats.get('weaponId')\n",
    "        self.strength = stats.get('strength')\n",
    "        self.bonusStrength = stats.get('bonusStrength')\n",
    "        self.damage = stats.get('damage')\n",
    "        self.saveMod = stats.get('saveMod')\n",
    "\n",
    "        self.parry = stats.get('parry')\n",
    "        self.nullify = stats.get('nullify')\n",
    "        self.clumsy = stats.get('clumsy')\n",
    "        self.outOfAction = stats.get('outOfAction')\n",
    "        self.injury = stats.get('injury')\n",
    "        self.noisy = stats.get('noisy')\n",
    "        self.twoHanded = stats.get('twoHanded')\n",
    "        self.dualHanded = stats.get('dualHanded')\n",
    "        self.draws = stats.get('draws')\n",
    "        self.mightyBlows = stats.get('mightyBlows')\n",
    "        self.cost = stats.get('cost')"
   ]
  },
  {
   "cell_type": "code",
   "execution_count": 144,
   "metadata": {
    "collapsed": true
   },
   "outputs": [],
   "source": [
    "class ShootyWeapon(object):\n",
    "    def __init__(self, stats):\n",
    "        self.weaponId = stats.get('weaponId')\n",
    "        self.weaponClass = stats.get('weaponClass') #pistol, basic, special, heavy, scaly, primitive,\n",
    "        self.shortRange = stats.get('shortRange')\n",
    "        self.longRange = stats.get('longRange')\n",
    "        self.shortToHit = stats.get('shortToHit')\n",
    "        self.longToHit = stats.get('longToHit')\n",
    "        self.strength = stats.get('strength')\n",
    "        self.damage = stats.get('damage')\n",
    "        self.saveMod = stats.get('saveMod')\n",
    "        self.ammoRoll = stats.get('ammoRoll')\n",
    "        self.cost = stats.get('cost')\n",
    "\n",
    "        self.alwaysAmmoRoll = stats.get('alwaysAmmoRoll')\n",
    "        self.flamer = stats.get('flamer')\n",
    "        self.catchFire = stats.get('catchFire')\n",
    "        self.getHot = stats.get('getHot')\n",
    "        self.toxicDart = stats.get('toxicDart')\n",
    "        self.silent = stats.get('silent')\n",
    "        self.injuries = stats.get('injuries')\n",
    "        self.webbedTargets = stats.get('webbedTargets')\n",
    "        self.solvent = stats.get('solvent')\n",
    "        self.capture = stats.get('capture')\n",
    "        self.knockBack = stats.get('knockBack')\n",
    "        self.pellets = stats.get('pellets')\n",
    "        self.headShot = stats.get('headShot')\n",
    "        self.sustainedFire = stats.get('sustainedFire')\n",
    "        self.ammo = stats.get('ammo')\n",
    "        self.highImpact = stats.get('highImpact')\n",
    "        self.moveAndFire = stats.get('moveAndFire')\n",
    "        self.gasCloud = stats.get('gasCloud')\n",
    "        self.blast = stats.get('blast')\n",
    "        self.smoke = stats.get('smoke')\n",
    "        self.choke = stats.get('choke')\n",
    "        self.scare = stats.get('scare')\n",
    "        self.blind = stats.get('blind')\n",
    "        self.plasmaBall = stats.get('plasmaBall')\n",
    "        self.demolition = stats.get('demolition')\n",
    "        self.hallucenation = stats.get('hallucenation')\n",
    "        self.hitPenalty = stats.get('hitPenalty')"
   ]
  },
  {
   "cell_type": "code",
   "execution_count": null,
   "metadata": {
    "collapsed": true
   },
   "outputs": [],
   "source": [
    "class MungVase(object):\n",
    "    def __init__(self):\n",
    "        self.cost = d6()\n",
    "        self.value = self.getValue()\n",
    "        \n",
    "    def getValue(self):\n",
    "        roll = d6()\n",
    "        if roll == 1:\n",
    "            return d6() #1-6, average=3.5\n",
    "        if roll == 2:\n",
    "            return 2*d6() #2-12, average=7\n",
    "        if roll == 3:\n",
    "            return (6*d6())+30 #36-66, average=51\n",
    "        if roll == 4:\n",
    "            return (6*d6())+30 #36-66, average=51\n",
    "        if roll == 5:\n",
    "            return (2*d6())*10 #20-120, average=70\n",
    "        if roll == 6:\n",
    "            return (3*d6()*10) #30-180, average=105"
   ]
  },
  {
   "cell_type": "code",
   "execution_count": 12,
   "metadata": {
    "collapsed": true
   },
   "outputs": [],
   "source": [
    "def test(characteristic):\n",
    "    roll = d6()\n",
    "    result = roll <= characteristic\n",
    "    if(characteristic >= 6):\n",
    "        roll2 = random.randint(1,6)\n",
    "        result = roll2 >= 3\n",
    "    return result"
   ]
  },
  {
   "cell_type": "code",
   "execution_count": 43,
   "metadata": {
    "collapsed": true
   },
   "outputs": [],
   "source": [
    "def leadershipCheck(fighter):\n",
    "    roll = d6() + d6()\n",
    "    return roll <= fighter.l"
   ]
  },
  {
   "cell_type": "code",
   "execution_count": 40,
   "metadata": {
    "collapsed": true
   },
   "outputs": [],
   "source": [
    "def d6():\n",
    "    return random.randint(1,6)"
   ]
  },
  {
   "cell_type": "code",
   "execution_count": 41,
   "metadata": {
    "collapsed": true
   },
   "outputs": [],
   "source": [
    "def d3():\n",
    "    return random.randint(1,6)"
   ]
  },
  {
   "cell_type": "code",
   "execution_count": 42,
   "metadata": {
    "collapsed": true
   },
   "outputs": [],
   "source": [
    "def d66():\n",
    "    return (d6(),d6())"
   ]
  },
  {
   "cell_type": "code",
   "execution_count": null,
   "metadata": {
    "collapsed": true
   },
   "outputs": [],
   "source": []
  }
 ],
 "metadata": {
  "kernelspec": {
   "display_name": "Python 2",
   "language": "python",
   "name": "python2"
  },
  "language_info": {
   "codemirror_mode": {
    "name": "ipython",
    "version": 2
   },
   "file_extension": ".py",
   "mimetype": "text/x-python",
   "name": "python",
   "nbconvert_exporter": "python",
   "pygments_lexer": "ipython2",
   "version": "2.7.10"
  }
 },
 "nbformat": 4,
 "nbformat_minor": 0
}
